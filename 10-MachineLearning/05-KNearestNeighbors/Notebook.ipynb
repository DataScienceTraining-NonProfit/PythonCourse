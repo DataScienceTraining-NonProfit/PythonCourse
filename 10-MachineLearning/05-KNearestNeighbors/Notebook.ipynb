{
  "metadata": {
    "kernelspec": {
      "display_name": "Python 3",
      "language": "python",
      "name": "python3"
    },
    "language_info": {
      "mimetype": "text/x-python",
      "nbconvert_exporter": "python",
      "name": "python",
      "file_extension": ".py",
      "version": "3.5.4",
      "pygments_lexer": "ipython3",
      "codemirror_mode": {
        "version": 3,
        "name": "ipython"
      }
    }
  },
  "nbformat_minor": 2,
  "nbformat": 4,
  "cells": [
    {
      "cell_type": "markdown",
      "source": "## Iris datset(UCI) Prediction using the K nearest neighbor(kNN) with Scikit Learn",
      "metadata": {}
    },
    {
      "cell_type": "markdown",
      "source": "#### Part 1: Data Preprocessing",
      "metadata": {}
    },
    {
      "cell_type": "code",
      "source": "#import the Libraries\nimport numpy as np                    # used for multdimensional array\nimport pandas as pd                   # used for import the dataset\nimport matplotlib.pyplot as plt       # used for plot the graph",
      "metadata": {},
      "execution_count": 32,
      "outputs": []
    },
    {
      "cell_type": "code",
      "source": "#import the dataset\ndataset=pd.read_csv('https://archive.ics.uci.edu/ml/machine-learning-databases/iris/iris.data')\nX=dataset.iloc[:,:-1].values    # predictor attributes\ny=dataset.iloc[:,-1].values     # target attributes",
      "metadata": {},
      "execution_count": 33,
      "outputs": []
    },
    {
      "cell_type": "code",
      "source": "# Encoding the categorical data\nfrom sklearn.preprocessing import LabelEncoder\nLabelencoder_y= LabelEncoder()\ny= Labelencoder_y.fit_transform(y)",
      "metadata": {},
      "execution_count": 35,
      "outputs": []
    },
    {
      "cell_type": "code",
      "source": "# split the dataset into test set and train set\nfrom sklearn.model_selection import train_test_split\nX_train, X_test, y_train, y_test = train_test_split(X,y, test_size=0.2, random_state=0)",
      "metadata": {},
      "execution_count": 36,
      "outputs": []
    },
    {
      "cell_type": "code",
      "source": "# Feature Scaling\nfrom sklearn.preprocessing import StandardScaler\nsc_X= StandardScaler()\nX_train=sc_X.fit_transform(X_train)\nX_test=sc_X.transform(X_test)",
      "metadata": {},
      "execution_count": 37,
      "outputs": []
    },
    {
      "cell_type": "markdown",
      "source": "#### Part 2: Building the model",
      "metadata": {}
    },
    {
      "cell_type": "code",
      "source": "# import the kNN model from scikit learn\nfrom sklearn.neighbors import KNeighborsClassifier",
      "metadata": {},
      "execution_count": 38,
      "outputs": []
    },
    {
      "cell_type": "code",
      "source": "# init the model\nknn= KNeighborsClassifier(n_neighbors=5 , metric= 'minkowski', p=2)  #minkowski= distance formul and p=2 power 2 of distformula",
      "metadata": {},
      "execution_count": 39,
      "outputs": []
    },
    {
      "cell_type": "code",
      "source": "#fit the kNN model\nknn.fit(X_train,y_train)",
      "metadata": {},
      "execution_count": 40,
      "outputs": [
        {
          "execution_count": 40,
          "output_type": "execute_result",
          "data": {
            "text/plain": "KNeighborsClassifier(algorithm='auto', leaf_size=30, metric='minkowski',\n           metric_params=None, n_jobs=1, n_neighbors=5, p=2,\n           weights='uniform')"
          },
          "metadata": {}
        }
      ]
    },
    {
      "cell_type": "markdown",
      "source": "#### Part 3: Making Prediction and accuracy score",
      "metadata": {}
    },
    {
      "cell_type": "code",
      "source": "# Making the Prediction\ny_pred = knn.predict(X_test)\ny_pred",
      "metadata": {},
      "execution_count": 44,
      "outputs": [
        {
          "execution_count": 44,
          "output_type": "execute_result",
          "data": {
            "text/plain": "array([1, 2, 1, 1, 0, 2, 2, 1, 1, 1, 0, 0, 1, 0, 0, 1, 2, 1, 0, 0, 1, 0,\n       1, 0, 1, 1, 1, 0, 0, 2], dtype=int64)"
          },
          "metadata": {}
        }
      ]
    },
    {
      "cell_type": "code",
      "source": "# Confusion metrics\nfrom sklearn.metrics import confusion_matrix\ncm = confusion_matrix(y_test, y_pred)\ncm",
      "metadata": {},
      "execution_count": 45,
      "outputs": [
        {
          "execution_count": 45,
          "output_type": "execute_result",
          "data": {
            "text/plain": "array([[11,  1,  0],\n       [ 0, 10,  0],\n       [ 0,  3,  5]], dtype=int64)"
          },
          "metadata": {}
        }
      ]
    },
    {
      "cell_type": "code",
      "source": "    # accuracy score\n    from sklearn.metrics import accuracy_score\n    ac= accuracy_score(y_test, y_pred)\n    ac",
      "metadata": {},
      "execution_count": 46,
      "outputs": [
        {
          "execution_count": 46,
          "output_type": "execute_result",
          "data": {
            "text/plain": "0.8666666666666667"
          },
          "metadata": {}
        }
      ]
    }
  ]
}