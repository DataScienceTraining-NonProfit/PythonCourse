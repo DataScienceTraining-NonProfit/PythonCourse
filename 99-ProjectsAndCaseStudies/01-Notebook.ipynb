{
  "metadata": {
    "kernelspec": {
      "display_name": "Python 3",
      "language": "python",
      "name": "python3"
    },
    "language_info": {
      "mimetype": "text/x-python",
      "nbconvert_exporter": "python",
      "name": "python",
      "file_extension": ".py",
      "version": "3.5.4",
      "pygments_lexer": "ipython3",
      "codemirror_mode": {
        "version": 3,
        "name": "ipython"
      }
    }
  },
  "nbformat_minor": 2,
  "nbformat": 4,
  "cells": [
    {
      "cell_type": "markdown",
      "source": "### Casestudy using real world data",
      "metadata": {}
    },
    {
      "cell_type": "markdown",
      "source": "**As a data analysts/data scientist! your role is to get the data and investigate the page visits to the City of Ridgeville's website (`page_visits.csv`), then extract meaningfull insights and generate some report or presentation**  \n* how many people visit the website\n* who they are \n* what they're hoping to do",
      "metadata": {}
    },
    {
      "cell_type": "markdown",
      "source": "###### 1) load the necessary packages\n",
      "metadata": {}
    },
    {
      "cell_type": "code",
      "source": "# your code here",
      "metadata": {},
      "execution_count": null,
      "outputs": []
    },
    {
      "cell_type": "markdown",
      "source": "###### 2) Load the data\n",
      "metadata": {}
    },
    {
      "cell_type": "code",
      "source": "# your code here",
      "metadata": {},
      "execution_count": 24,
      "outputs": []
    },
    {
      "cell_type": "markdown",
      "source": "###### 3) Display first five rows",
      "metadata": {}
    },
    {
      "cell_type": "code",
      "source": "# your code here",
      "metadata": {},
      "execution_count": 28,
      "outputs": []
    },
    {
      "cell_type": "markdown",
      "source": "![Imgur](https://i.imgur.com/MzXQhJW.jpg)",
      "metadata": {}
    },
    {
      "cell_type": "markdown",
      "source": "###### 4) Display how many number of citizens are there for each website goal category by grouping ",
      "metadata": {}
    },
    {
      "cell_type": "code",
      "source": "# your code here",
      "metadata": {},
      "execution_count": 29,
      "outputs": []
    },
    {
      "cell_type": "markdown",
      "source": "![Imgur](https://i.imgur.com/LhoRcc1.jpg)",
      "metadata": {}
    },
    {
      "cell_type": "markdown",
      "source": "###### 5) Show the percentage of the number of citizens as a pie chart by categorising the reason behind website visit",
      "metadata": {}
    },
    {
      "cell_type": "code",
      "source": "# your code here",
      "metadata": {},
      "execution_count": 30,
      "outputs": []
    },
    {
      "cell_type": "markdown",
      "source": "![Imgur](https://i.imgur.com/Q1IrxeC.jpg)",
      "metadata": {}
    },
    {
      "cell_type": "markdown",
      "source": "###### 6) Plot the date wise visits as a line chart and findout any interesting patterns (line graph of page visits over time)",
      "metadata": {}
    },
    {
      "cell_type": "code",
      "source": "# your code here",
      "metadata": {
        "scrolled": true
      },
      "execution_count": 31,
      "outputs": []
    },
    {
      "cell_type": "markdown",
      "source": "![Imgur](https://i.imgur.com/1FohGsV.jpg)",
      "metadata": {}
    },
    {
      "cell_type": "markdown",
      "source": "###### 7) How old are our visitors? make a histogram of visitors ages findout the distributions and investigate the average age of visitors.How can we get more older folks interested in our website?",
      "metadata": {}
    },
    {
      "cell_type": "code",
      "source": "# your code here",
      "metadata": {},
      "execution_count": 32,
      "outputs": []
    },
    {
      "cell_type": "markdown",
      "source": "![Imgur](https://i.imgur.com/HqrR1ax.jpg)",
      "metadata": {}
    }
  ]
}